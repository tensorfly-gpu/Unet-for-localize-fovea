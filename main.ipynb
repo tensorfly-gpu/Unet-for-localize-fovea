{
 "cells": [
  {
   "cell_type": "markdown",
   "id": "b70b7968-27c1-4a15-a658-6b8126a5b896",
   "metadata": {},
   "source": [
    "# 常规赛：黄斑中央凹定位（GAMMA挑战赛任务二）"
   ]
  },
  {
   "cell_type": "markdown",
   "id": "76c2a645-98a1-49d7-8185-7f6990ff6b1f",
   "metadata": {},
   "source": [
    "## 赛题介绍\n",
    "### 一、赛题背景\n",
    "> 除了视盘，眼底另一重要结构是黄斑。黄斑在视盘的颞侧0.35cm处并稍下方，处于人眼的光学中心区。黄斑中央的凹陷称为**中央凹**，是**视力最敏锐的地方**。因此，实现中央凹的精确定位对眼底疾病自动化诊断至关重要。\n",
    "### 二、比赛链接\n",
    "> https://aistudio.baidu.com/aistudio/competition/detail/120/0/introduction\n",
    "### 三、赛题任务\n",
    "> 根据给定眼底图像彩照，预测中央凹在图像中的坐标值(十字中心坐标)。下图为模型预测结果。\n",
    "![](https://ai-studio-static-online.cdn.bcebos.com/08a2edaa9c1e4fcda20e393e4dcdc6b8eb14274823f94df78641bb66c5f28275)\n",
    "![](https://ai-studio-static-online.cdn.bcebos.com/7299c500ba2e47078448f2f210a0725813752d40177341e59a8052f2edfc5167)\n",
    "\n",
    "### 四、数据说明\n",
    "> 本常规赛数据集由中国广州中山大学中山眼科中心提供，数据集中包含200个2D眼底彩照样本，分别为：训练集100个，测试集100个。\n",
    "\n",
    "> 常规赛训练集\n",
    "训练数据集包括100个样本0001-0100，每个样本对应一个2D眼底彩照数据，存储为0001.jpg。黄斑中央凹定位坐标金标准存储在Excel表格中，第一列为图像名称，第二列为x坐标位置，第三列为y坐标位置。\n",
    "![](https://ai-studio-static-online.cdn.bcebos.com/e65801e824ae466c9457008623e7f42e63723814234c4a0fa263ca5358517ce3)\n",
    "\n",
    "### 五、评价指标\n",
    ">评价指标Evaluation Metrics\n",
    "\n",
    ">平均欧式距离(Average Euclidean Distance, AED)是黄斑中央凹定位结果的评价指标，计算每个测试样本预测的黄斑中央凹坐标与金标准的欧式距离（坐标被归一化），最终计算其平均值。该任务的最后得分即为平均欧式距离的倒数：\n",
    "![](https://ai-studio-static-online.cdn.bcebos.com/49942e3fc42948bba7b5f626963375a8c14ab8b60293457499f5ddcba1bb5048)\n",
    "\n",
    "\n",
    "\n",
    "\n",
    "### 六、比赛思路\n",
    ">1. 通过将所有图片翻转为视盘在左，尺寸reshape为1956x1934，在对中央凹的坐标值进行统计分析，发现中央凹位置集中在（608，400）的范围内。因此，对于每张图片，只将关注范围移动到此区域。\n",
    "\n",
    ">2. 由于使用resnet接fc层直接进行坐标回归缺乏空间泛化能力，因此本项目采用Unet结合heatmap的方式进行精确定位。可参考https://zhuanlan.zhihu.com/p/374842773\n",
    "\n",
    ">3. 为了更准确地评价模型，采用了5折交叉验证分别训练5个模型，为了确保每个训练数据对最终模型的预测都做出贡献，取这5个模型的平均作为预测结果。\n",
    "\n",
    ">4. 通过提高热力图的最大值(10)，提升了模型的收敛速度；在损失函数里添加了模型输出的方差奖励，奖励模型输出比较集中在一个区域。\n"
   ]
  },
  {
   "cell_type": "markdown",
   "id": "420aadfd-e1b1-49ce-9c1a-f187aecc74c9",
   "metadata": {},
   "source": [
    "## 模型效果展示\n",
    ">左边对应模型预测的热力图，右侧对应原图和十字中央凹位置。可以看到模型输出的热力图集中在中央凹附近。\n",
    "\n",
    "![](https://ai-studio-static-online.cdn.bcebos.com/5244ec98e2c94925adeb1a7cc59bab3c37637d2a52fe4102b9df6b330656f6cf)\n",
    "![](https://ai-studio-static-online.cdn.bcebos.com/ddedb6ae53724ef597f9b8c3769f6a1cbd0296512e234c65bd81c216fa53faf4)\n",
    "![](https://ai-studio-static-online.cdn.bcebos.com/3e2900c8c22e4b718731547dd90ef8a271731dd089464fc2ba81d92bfa77d58b)\n",
    "![](https://ai-studio-static-online.cdn.bcebos.com/c5de00c96810404f95937c2f65d0367caf35d902b37c4345b43eeb77ad22073d)\n"
   ]
  },
  {
   "cell_type": "markdown",
   "id": "93e24209-d7f8-4d31-bbbd-d04ab8b7c6d8",
   "metadata": {},
   "source": [
    "### 获取数据集，解压数据，获取预训练模型，代码包"
   ]
  },
  {
   "cell_type": "code",
   "execution_count": null,
   "id": "00080a4b-3429-400e-bb97-34f6c282be4e",
   "metadata": {},
   "outputs": [],
   "source": [
    "#获取数据集\n",
    "!wget https://dataset-bj.cdn.bcebos.com/%E5%8C%BB%E7%96%97%E6%AF%94%E8%B5%9B/task2_Fovea_localization.zip\n",
    "\n",
    "#解压数据集到/data文件夹\n",
    "!unzip -oq task2_Fovea_localization.zip -d ./data\n",
    "\n",
    "#解压已经炼好的模型，大家可以在此基础上再继续精炼\n",
    "import os\n",
    "os.mkdir('./model')\n",
    "!unzip -oq data/data120091/炼好的模型.zip -d ./model"
   ]
  },
  {
   "cell_type": "markdown",
   "id": "abf668ef-be27-4faa-9c61-bf952f4f25e7",
   "metadata": {},
   "source": [
    "## 代码部分"
   ]
  },
  {
   "cell_type": "markdown",
   "id": "f210bacd-f9de-444a-85d8-967d9a5f501b",
   "metadata": {},
   "source": [
    "### 一、导入基本模块"
   ]
  },
  {
   "cell_type": "code",
   "execution_count": 1,
   "id": "63e36f62-bd78-4cad-bd1d-ba4584781701",
   "metadata": {
    "execution": {
     "iopub.execute_input": "2021-12-08T15:56:06.783997Z",
     "iopub.status.busy": "2021-12-08T15:56:06.782833Z",
     "iopub.status.idle": "2021-12-08T15:56:08.689781Z",
     "shell.execute_reply": "2021-12-08T15:56:08.688920Z",
     "shell.execute_reply.started": "2021-12-08T15:56:06.783949Z"
    }
   },
   "outputs": [
    {
     "name": "stderr",
     "output_type": "stream",
     "text": [
      "/opt/conda/envs/python35-paddle120-env/lib/python3.7/site-packages/matplotlib/__init__.py:107: DeprecationWarning: Using or importing the ABCs from 'collections' instead of from 'collections.abc' is deprecated, and in 3.8 it will stop working\n",
      "  from collections import MutableMapping\n",
      "/opt/conda/envs/python35-paddle120-env/lib/python3.7/site-packages/matplotlib/rcsetup.py:20: DeprecationWarning: Using or importing the ABCs from 'collections' instead of from 'collections.abc' is deprecated, and in 3.8 it will stop working\n",
      "  from collections import Iterable, Mapping\n",
      "/opt/conda/envs/python35-paddle120-env/lib/python3.7/site-packages/matplotlib/colors.py:53: DeprecationWarning: Using or importing the ABCs from 'collections' instead of from 'collections.abc' is deprecated, and in 3.8 it will stop working\n",
      "  from collections import Sized\n"
     ]
    }
   ],
   "source": [
    "#导入相关包，函数\n",
    "from work.my_func.data_process import transfer_img_location,get_gauss_map,dark_kernel_process\n",
    "from work.my_func.data_info import train_lr,train_size,test_lr,test_size,get_img_path\n",
    "from work.my_func.model import Unet\n",
    "\n",
    "import paddle\n",
    "import paddle.nn as nn\n",
    "import paddle.nn.functional as F\n",
    "from paddle.io import Dataset,DataLoader\n",
    "from paddle.nn import Linear,Dropout,BatchNorm1D\n",
    "\n",
    "import numpy as np\n",
    "import pandas as pd\n",
    "import matplotlib.pyplot as plt\n",
    "import random\n",
    "import warnings\n",
    "from PIL import Image\n",
    "\n",
    "# 忽略警告输出\n",
    "warnings.filterwarnings(\"ignore\")\n",
    "paddle.set_device('gpu')\n",
    "paddle.disable_static()"
   ]
  },
  {
   "cell_type": "markdown",
   "id": "7660d037-b9d7-45ea-bfab-42677d752ea2",
   "metadata": {},
   "source": [
    "### 二、数据分析"
   ]
  },
  {
   "cell_type": "code",
   "execution_count": 5,
   "id": "0e914ca5-7961-4f0a-9b65-1e016c01d32a",
   "metadata": {
    "execution": {
     "iopub.execute_input": "2021-12-08T14:52:29.209244Z",
     "iopub.status.busy": "2021-12-08T14:52:29.208732Z",
     "iopub.status.idle": "2021-12-08T14:52:39.297150Z",
     "shell.execute_reply": "2021-12-08T14:52:39.296552Z",
     "shell.execute_reply.started": "2021-12-08T14:52:29.209197Z"
    }
   },
   "outputs": [
    {
     "name": "stdout",
     "output_type": "stream",
     "text": [
      "x的波动范围：487.3958480000001\n",
      "y的波动范围：282.36016400000017\n",
      "x的中值：1139.385184\n",
      "y的中值：1038.351979\n",
      "中央凹分布如下\n"
     ]
    },
    {
     "data": {
      "image/png": "[encoded data removed]",
      "text/plain": [
       "<Figure size 432x288 with 1 Axes>"
      ]
     },
     "metadata": {
      "needs_background": "light"
     },
     "output_type": "display_data"
    }
   ],
   "source": [
    "#接收转换后的位置\n",
    "transfer_location_x = []\n",
    "transfer_location_y = []\n",
    "\n",
    "#遍历训练数据\n",
    "for index in range(100):\n",
    "    _,location = transfer_img_location(index,lr=train_lr[index],size=train_size[index],mode='train')\n",
    "    transfer_location_x.append(location[0])\n",
    "    transfer_location_y.append(location[1])\n",
    "\n",
    "#分析结果\n",
    "print('x的波动范围：{}'.format(np.max(transfer_location_x) - np.min(transfer_location_x)))\n",
    "print('y的波动范围：{}'.format(np.max(transfer_location_y) - np.min(transfer_location_y)))\n",
    "print('x的中值：{}'.format((np.max(transfer_location_x) + np.min(transfer_location_x))/2))\n",
    "print('y的中值：{}'.format((np.max(transfer_location_y) + np.min(transfer_location_y))/2))\n",
    "print('中央凹分布如下')\n",
    "\n",
    "plt.scatter(transfer_location_x,transfer_location_y)\n",
    "plt.show()"
   ]
  },
  {
   "cell_type": "markdown",
   "id": "74673887-2ade-421d-9e2d-660f56f45915",
   "metadata": {},
   "source": [
    "### 三、构建训练数据集"
   ]
  },
  {
   "cell_type": "code",
   "execution_count": 2,
   "id": "24deabf9-e50e-4cba-aee9-12f5bfe97909",
   "metadata": {
    "execution": {
     "iopub.execute_input": "2021-12-08T15:41:22.835256Z",
     "iopub.status.busy": "2021-12-08T15:41:22.834316Z",
     "iopub.status.idle": "2021-12-08T15:41:22.843386Z",
     "shell.execute_reply": "2021-12-08T15:41:22.842829Z",
     "shell.execute_reply.started": "2021-12-08T15:41:22.835210Z"
    }
   },
   "outputs": [],
   "source": [
    "#列表乱序，随机切分数据集\n",
    "random.seed(1024)\n",
    "all_data = [i for i in range(100)]\n",
    "random.shuffle(all_data)\n",
    "\n",
    "class TrainData(Dataset):\n",
    "    def __init__(self,fold_num):        #传入折数，1,2,3,4,5其中一个\n",
    "        super(TrainData,self).__init__()\n",
    "        self.num_samples = 80\n",
    "        self.fold_num = fold_num\n",
    "        self.sample_list = list(set(all_data) - set(all_data[(self.fold_num-1)*20:(self.fold_num-1)*20+20]))    #获取训练数据样本id\n",
    "\n",
    "    def __getitem__(self, index):\n",
    "        #读取图片和标签\n",
    "        index = self.sample_list[index]\n",
    "        img,location = transfer_img_location(index,lr=train_lr[index],size=train_size[index],mode='train')  #加载图片，位置\n",
    "\n",
    "        #以中央凹为中心，对图片做随即平移，防止网络只输出一个常量\n",
    "        #由于在训练时，每次看到的图片都不一样（平移量不一样），所以训练的epoch要多一点100或200轮\n",
    "        x,y = location\n",
    "        x,y = int(x),int(y)\n",
    "        move_x = random.randint(-240,240)\n",
    "        move_y = random.randint(-180,180)\n",
    "        x = x + move_x\n",
    "        y = y + move_y\n",
    "        img = img[:,x-304:x+304,y-200:y+200]\n",
    "\n",
    "        #转换输出类型为np.array,'float32'\n",
    "        features = np.array(img).astype('float32')\n",
    "        labels = np.array(get_gauss_map((304-move_x,200-move_y),sigma=1,r=80)).astype('float32') #标签是热力图的形式\n",
    "        return features,labels\n",
    "\n",
    "    def __len__(self):\n",
    "        return self.num_samples"
   ]
  },
  {
   "cell_type": "markdown",
   "id": "533d3de0-1ad4-4e7a-9b49-afee33aa6381",
   "metadata": {},
   "source": [
    "### 四、定义模型评估方法"
   ]
  },
  {
   "cell_type": "code",
   "execution_count": 3,
   "id": "0ca4cdc6-4ddd-430a-bbdc-0f54a97edff9",
   "metadata": {
    "execution": {
     "iopub.execute_input": "2021-12-08T15:41:25.276402Z",
     "iopub.status.busy": "2021-12-08T15:41:25.275332Z",
     "iopub.status.idle": "2021-12-08T15:41:25.286223Z",
     "shell.execute_reply": "2021-12-08T15:41:25.285670Z",
     "shell.execute_reply.started": "2021-12-08T15:41:25.276359Z"
    }
   },
   "outputs": [],
   "source": [
    "#epoch:训练轮次，方便模型命名\n",
    "#train_size:计算归一化欧式距离\n",
    "#model:评估的模型\n",
    "#fold_num:与训练数据集相对应，使用剩下的20个样本进行评估\n",
    "#visual_avalible:是否可视化模型输出与输入图片，默认为False\n",
    "def evaluation(epoch,train_size,model,fold_num,visual_avalible=False): \n",
    "\n",
    "    model.eval()\n",
    "    ED = 0      #归一化欧氏距离\n",
    "    valid_sample = all_data[(fold_num-1)*20:(fold_num-1)*20+20]\n",
    "\n",
    "    for index in valid_sample:\n",
    "        #加载数据，标签\n",
    "        img,location = transfer_img_location(index,lr=train_lr[index],size=train_size[index],mode='train')\n",
    "        img = img[:,836:1444,840:1240]\n",
    "        features = np.array(img).astype('float32')\n",
    "        labels = np.array(get_gauss_map(location)).astype('float32')\n",
    "\n",
    "        #模型预测\n",
    "        features = paddle.to_tensor([features])\n",
    "        pre = model(features)[0].numpy()\n",
    "        \n",
    "        #由于模型极少情况下预测的热力图是空白，因此分类讨论输出\n",
    "        if np.sum(pre) < 1000:\n",
    "            pre_x,pre_y = 304+80,200+40\n",
    "        else:\n",
    "            pre_x,pre_y = dark_kernel_process(pre[0])  #效果最好\n",
    "\n",
    "        #计算ED\n",
    "        x,y = np.array(location) - np.array([836,840])\n",
    "        if train_size[index] == 1:\n",
    "            ED = ED + (((pre_x - x)/2992)**2 + ((pre_y - y)/2000)**2)**(1/2)\n",
    "        else:\n",
    "            ED = ED + (((pre_x - x)/1956)**2 + ((pre_y - y)/1934)**2)**(1/2)\n",
    "\n",
    "        #可视化模型输出与输入图片\n",
    "        if visual_avalible:\n",
    "            print('第{}张图片'.format(index+1))\n",
    "            plt.subplot(121)\n",
    "            plt.imshow(pre[0].transpose(1,0))\n",
    "            plt.subplot(122)\n",
    "            plt.imshow(img.transpose(2,1,0))\n",
    "            plt.show()\n",
    "\n",
    "    ED = ED / 20\n",
    "    print('epoch:{},ED:{}'.format(epoch,ED))\n",
    "    #对效果较好的模型进行保存\n",
    "    if ED < 0.009:\n",
    "        paddle.save(model.state_dict(), 'model/model{}_ED{}.pdparams'.format(fold_num,ED)) #保存模型参数\n",
    "\n",
    "    model.train()"
   ]
  },
  {
   "cell_type": "markdown",
   "id": "73f9f644-b055-47b3-86cf-a3ce1d81e841",
   "metadata": {},
   "source": [
    "### 五、定义动态图训练过程"
   ]
  },
  {
   "cell_type": "code",
   "execution_count": 4,
   "id": "bcbf65db-ccbd-4972-81e9-24a12207386b",
   "metadata": {
    "execution": {
     "iopub.execute_input": "2021-12-08T15:41:28.507655Z",
     "iopub.status.busy": "2021-12-08T15:41:28.506672Z",
     "iopub.status.idle": "2021-12-08T15:41:28.513857Z",
     "shell.execute_reply": "2021-12-08T15:41:28.513306Z",
     "shell.execute_reply.started": "2021-12-08T15:41:28.507611Z"
    }
   },
   "outputs": [],
   "source": [
    "#传入三个参数model,opt,fold_num\n",
    "#建议使用GPU32G环境运送此项目\n",
    "def train(model,opt,fold_num,EPOCH_NUM=200,visual_avalible=False):    #加载预训练模型再训练时，可将此处设置为100\n",
    "    use_gpu = True\n",
    "    paddle.set_device('gpu:0') if use_gpu else paddle.set_device('cpu')\n",
    "    model.train()\n",
    "\n",
    "    for epoch_id in range(EPOCH_NUM):\n",
    "        for batch_id,data in enumerate(train_loader()):\n",
    "            #读取数据\n",
    "            features,labels = data\n",
    "            features = paddle.to_tensor(features)\n",
    "            labels = paddle.to_tensor(labels)\n",
    "\n",
    "            #前向传播\n",
    "            predicts = model(features)\n",
    "\n",
    "            #使用均方误差，同时增加了对模型方差的控制，希望模型的预测热力图能集中在一个区域，因此需要增加方差，在代价函数中采用-0.0005的系数\n",
    "            loss = F.square_error_cost(predicts,labels) - 0.0005 * paddle.var(predicts)\n",
    "\n",
    "            #反向传播\n",
    "            avg_loss = paddle.mean(loss)\n",
    "            avg_loss.backward()\n",
    "\n",
    "            #更新参数\n",
    "            opt.step()\n",
    "\n",
    "            #变量梯度清0\n",
    "            opt.clear_grad()\n",
    "\n",
    "            #打印损失\n",
    "            if batch_id % 3 == 0:\n",
    "                print('epoch_id:{},loss:{}'.format(epoch_id,avg_loss.numpy()))\n",
    "        \n",
    "        evaluation(epoch_id,train_size,model,fold_num,visual_avalible=visual_avalible)  #需要可视化时，添加visual_avalible=True"
   ]
  },
  {
   "cell_type": "markdown",
   "id": "010355e2-0af0-4a60-b98c-429d93ecb667",
   "metadata": {},
   "source": [
    "### 六、训练模型并保存"
   ]
  },
  {
   "cell_type": "code",
   "execution_count": null,
   "id": "4116bbed-cf7a-443c-aad6-226ffff794c9",
   "metadata": {},
   "outputs": [],
   "source": [
    "'''\n",
    "由于训练每个模型需要20G以上显存，因此训练好一个模型以后，请重启内核再训练下一个模型，防止显存溢出。\n",
    "'''\n",
    "#加载模型\n",
    "model = Unet()\n",
    "\n",
    "#加载预训练模型，预训练模型是在100个样本上进行的训练\n",
    "layer_state_dict = paddle.load(\"model/model_epoch101_batch12_loss[0.46564353].pdparams\")\n",
    "model.set_state_dict(layer_state_dict)\n",
    "\n",
    "#定义优化器\n",
    "opt = paddle.optimizer.Adam(learning_rate=5e-4,parameters=model.parameters(),weight_decay=paddle.regularizer.L2Decay(coeff=0.001))\n",
    "\n",
    "#定义fold_num,从1到5共训练五个模型\n",
    "fold_num = 1    \n",
    "train_data = TrainData(fold_num)        \n",
    "train_loader = DataLoader(train_data,batch_size=10,shuffle=True,drop_last=False)    #batch_size不要过大\n",
    "\n",
    "#模型训练\n",
    "train(model,opt,fold_num,EPOCH_NUM=10,visual_avalible=False)"
   ]
  },
  {
   "cell_type": "markdown",
   "id": "ed09266a-1eda-431c-b79b-90d2ce61e52a",
   "metadata": {},
   "source": [
    "### 七、加载全部模型进行预测并提交结果"
   ]
  },
  {
   "cell_type": "code",
   "execution_count": 2,
   "id": "d3cedefe-a1cf-4faa-b91f-fc10e03d8311",
   "metadata": {
    "execution": {
     "iopub.execute_input": "2021-12-08T15:56:22.466012Z",
     "iopub.status.busy": "2021-12-08T15:56:22.465449Z",
     "iopub.status.idle": "2021-12-08T16:04:29.115060Z",
     "shell.execute_reply": "2021-12-08T16:04:29.114426Z",
     "shell.execute_reply.started": "2021-12-08T15:56:22.465969Z"
    }
   },
   "outputs": [
    {
     "name": "stderr",
     "output_type": "stream",
     "text": [
      "W1208 23:56:22.475440  6042 device_context.cc:447] Please NOTE: device: 0, GPU Compute Capability: 7.0, Driver API Version: 10.1, Runtime API Version: 10.1\n",
      "W1208 23:56:22.481185  6042 device_context.cc:465] device: 0, cuDNN Version: 7.6.\n"
     ]
    },
    {
     "name": "stdout",
     "output_type": "stream",
     "text": [
      "解算开始...\n",
      "图片：101，预测结果：[1508.0, 1040.6]\n",
      "图片：102，预测结果：[1476.0, 1045.4]\n",
      "图片：103，预测结果：[1467.2, 1061.8]\n",
      "图片：104，预测结果：[1470.8, 1019.0]\n",
      "图片：105，预测结果：[1690.8, 1078.2]\n",
      "图片：106，预测结果：[1693.2, 1083.4]\n",
      "图片：107，预测结果：[726.4000000000001, 1015.5999999999999]\n",
      "图片：108，预测结果：[1494.8, 1057.0]\n",
      "图片：109，预测结果：[1687.2, 1095.4]\n",
      "图片：110，预测结果：[1446.0, 1080.2]\n",
      "图片：111，预测结果：[1674.0, 1085.8]\n",
      "图片：112，预测结果：[1472.0, 1037.0]\n",
      "图片：113，预测结果：[1442.8, 1097.4]\n",
      "图片：114，预测结果：[1451.6, 1011.4000000000001]\n",
      "图片：115，预测结果：[1468.0, 1033.4]\n",
      "图片：116，预测结果：[1246.4, 1103.8]\n",
      "图片：117，预测结果：[680.4000000000001, 999.2]\n",
      "图片：118，预测结果：[1489.2, 1035.0]\n",
      "图片：119，预测结果：[1692.8, 1090.2]\n",
      "图片：120，预测结果：[1683.6, 1102.6]\n",
      "图片：121，预测结果：[1463.2, 1051.4]\n",
      "图片：122，预测结果：[1260.4, 1100.6]\n",
      "图片：123，预测结果：[1488.8, 1033.0]\n",
      "图片：124，预测结果：[1467.2, 1038.2]\n",
      "图片：125，预测结果：[1690.8, 1063.4]\n",
      "图片：126，预测结果：[1257.2, 1121.4]\n",
      "图片：127，预测结果：[1288.4, 1205.8]\n",
      "图片：128，预测结果：[1389.2, 1034.2]\n",
      "图片：129，预测结果：[1532.0, 1056.6]\n",
      "图片：130，预测结果：[1476.0, 1052.2]\n",
      "图片：131，预测结果：[1496.0, 1008.2]\n",
      "图片：132，预测结果：[1466.4, 1072.6]\n",
      "图片：133，预测结果：[1483.2, 1056.2]\n",
      "图片：134，预测结果：[1546.8, 1030.6]\n",
      "图片：135，预测结果：[1266.0, 1101.8]\n",
      "图片：136，预测结果：[1513.6, 1032.2]\n",
      "图片：137，预测结果：[750.8, 1011.5999999999999]\n",
      "图片：138，预测结果：[1506.0, 1021.8]\n",
      "图片：139，预测结果：[1446.0, 1067.0]\n",
      "图片：140，预测结果：[1550.4, 1056.6]\n",
      "图片：141，预测结果：[1303.2, 1085.0]\n",
      "图片：142，预测结果：[1239.2, 1093.8]\n",
      "图片：143，预测结果：[1458.4, 1055.4]\n",
      "图片：144，预测结果：[1481.6, 1059.4]\n",
      "图片：145，预测结果：[1480.4, 1047.0]\n",
      "图片：146，预测结果：[1486.0, 1042.6]\n",
      "图片：147，预测结果：[1678.4, 1094.6]\n",
      "图片：148，预测结果：[1514.0, 1043.8]\n",
      "图片：149，预测结果：[1496.0, 1041.4]\n",
      "图片：150，预测结果：[1452.4, 1015.0]\n",
      "图片：151，预测结果：[1688.8, 1097.4]\n",
      "图片：152，预测结果：[1244.8, 1093.0]\n",
      "图片：153，预测结果：[1441.6, 1033.0]\n",
      "图片：154，预测结果：[1239.6, 1087.4]\n",
      "图片：155，预测结果：[1509.2, 1025.8]\n",
      "图片：156，预测结果：[1466.4, 1053.0]\n",
      "图片：157，预测结果：[1468.0, 1029.8]\n",
      "图片：158，预测结果：[1252.8, 1126.6]\n",
      "图片：159，预测结果：[1554.8, 1035.8]\n",
      "图片：160，预测结果：[661.5999999999999, 997.5999999999999]\n",
      "图片：161，预测结果：[1276.4, 1093.8]\n",
      "图片：162，预测结果：[1478.0, 1049.0]\n",
      "图片：163，预测结果：[1258.4, 1100.6]\n",
      "图片：164，预测结果：[1488.8, 1042.2]\n",
      "图片：165，预测结果：[1680.4, 1104.2]\n",
      "图片：166，预测结果：[1669.2, 1085.0]\n",
      "图片：167，预测结果：[1252.4, 1111.0]\n",
      "图片：168，预测结果：[1255.2, 1095.8]\n",
      "图片：169，预测结果：[1436.0, 1034.6]\n",
      "图片：170，预测结果：[1456.8, 1043.4]\n",
      "图片：171，预测结果：[1824.0, 999.8]\n",
      "图片：172，预测结果：[1468.4, 1067.0]\n",
      "图片：173，预测结果：[1690.4, 1099.4]\n",
      "图片：174，预测结果：[1442.8, 1023.4000000000001]\n",
      "图片：175，预测结果：[1296.0, 1097.4]\n",
      "图片：176，预测结果：[1708.8, 1112.6]\n",
      "图片：177，预测结果：[666.0, 1018.0]\n",
      "图片：178，预测结果：[1694.4, 1078.6]\n",
      "图片：179，预测结果：[1348.0, 1107.8]\n",
      "图片：180，预测结果：[1429.6, 1029.0]\n",
      "图片：181，预测结果：[1268.4, 1100.2]\n",
      "图片：182，预测结果：[1474.8, 1030.6]\n",
      "图片：183，预测结果：[714.8, 1008.0]\n",
      "图片：184，预测结果：[1502.4, 1043.0]\n",
      "图片：185，预测结果：[1418.0, 1007.4000000000001]\n",
      "图片：186，预测结果：[1317.6, 1044.6]\n",
      "图片：187，预测结果：[1444.4, 1008.2]\n",
      "图片：188，预测结果：[1272.0, 1108.2]\n",
      "图片：189，预测结果：[1246.0, 1103.8]\n",
      "图片：190，预测结果：[1510.4, 1045.8]\n",
      "图片：191，预测结果：[1457.6, 1042.2]\n",
      "图片：192，预测结果：[1691.2, 1095.0]\n",
      "图片：193，预测结果：[714.0, 1002.4000000000001]\n",
      "图片：194，预测结果：[1458.0, 1073.0]\n",
      "图片：195，预测结果：[1469.6, 1041.4]\n",
      "图片：196，预测结果：[1498.8, 1032.2]\n",
      "图片：197，预测结果：[1318.4, 1109.0]\n",
      "图片：198，预测结果：[1606.8, 1042.6]\n",
      "图片：199，预测结果：[1468.8, 1043.8]\n",
      "图片：200，预测结果：[1472.8, 1059.4]\n",
      "解算完毕...\n"
     ]
    }
   ],
   "source": [
    "#加载模型\n",
    "model1 = Unet()\n",
    "model1.set_state_dict(paddle.load(\"model/model1_ED0.008243825249706058.pdparams\"))\n",
    "model1.eval()\n",
    "\n",
    "model2 = Unet()\n",
    "model2.set_state_dict(paddle.load(\"model/model2_ED0.00708214607276843.pdparams\"))\n",
    "model2.eval()\n",
    "\n",
    "model3 = Unet()\n",
    "model3.set_state_dict(paddle.load(\"model/model3_ED0.008693393679250788.pdparams\"))\n",
    "model3.eval()\n",
    "\n",
    "model4 = Unet()\n",
    "model4.set_state_dict(paddle.load(\"model/model4_ED0.00877534777237888.pdparams\"))\n",
    "model4.eval()\n",
    "\n",
    "model5 = Unet()\n",
    "model5.set_state_dict(paddle.load(\"model/model5_ED0.007696413964666473.pdparams\"))\n",
    "model5.eval()\n",
    "model_list = [model1,model2,model3,model4,model5]\n",
    "\n",
    "#生成预测结果\n",
    "predict_list = []\n",
    "\n",
    "print('解算开始...')\n",
    "for index in range(100):\n",
    "    #载入测试数据\n",
    "    img,location = transfer_img_location(index,lr=test_lr[index],size=test_size[index],mode='test')\n",
    "    img = img[:,836:1444,840:1240]\n",
    "    features = np.array(img).astype('float32')\n",
    "    labels = np.array(get_gauss_map(location)).astype('float32')\n",
    "    features = paddle.to_tensor([features])\n",
    "\n",
    "\n",
    "    '''\n",
    "    这里的方法是对每个热力图做黑核搜索然后将坐标平均；另一种做法是先对热力图做平均，在对其使用黑核搜索（推荐尝试）\n",
    "    '''\n",
    "    PreX,PreY = 0,0\n",
    "    for model in model_list:\n",
    "        pre = model(features)[0].numpy()\n",
    "        if np.sum(pre) < 1000:\n",
    "            pre_x,pre_y = 304+80,200+40\n",
    "        else:\n",
    "            pre_x,pre_y = dark_kernel_process(pre[0],kernel_size=80)  #使用黑核搜索将热力图转为标签\n",
    "        PreX = pre_x + PreX\n",
    "        PreY = pre_y + PreY\n",
    "    PreX = PreX / 5\n",
    "    PreY = PreY / 5\n",
    "\n",
    "    PreX = PreX + 1140-304\n",
    "    PreY = PreY + 1040-200\n",
    "    if test_lr[index] == 1:\n",
    "        PreX = 1956 -PreX\n",
    "\n",
    "    if test_size[index] == 1:\n",
    "        PreX = PreX + 518\n",
    "        PreY = PreY + 33\n",
    "\n",
    "    print('图片：{}，预测结果：{}'.format(index+101,[PreX,PreY]))\n",
    "    predict_list.append([PreX,PreY])\n",
    "\n",
    "print('解算完毕！')\n",
    "\n",
    "\n",
    "#生成csv文件\n",
    "pre_list = []\n",
    "for index in range(100):\n",
    "    pre_list.append([index+101] + predict_list[index])\n",
    "\n",
    "dataframe = pd.DataFrame(pre_list)\n",
    "dataframe.columns=['data','Fovea_X','Fovea_Y']\n",
    "#最高得分9.07791\n",
    "dataframe.to_csv('pre{}.csv'.format(3),sep=',',index=False)  #format里自设数字，区分开提交的版本即可"
   ]
  },
  {
   "cell_type": "markdown",
   "id": "31c11495-5f7b-4d9b-9cc1-d7e7387c8c17",
   "metadata": {},
   "source": [
    "## 总结与思考\n",
    ">1. 本项目使用Unet网络结合heatmap回归的方式成功的进行了中央凹位置的精确定位。为了提升项目骨干流程运行体验，项目中使用的辅助函数及Unet模型均放在work/my_func包下，其中Unet模型网络搭建与详解可参考\n",
    "https://www.bilibili.com/video/BV11341127iK?from=search&seid=7756321337770355213&spm_id_from=333.337.0.0。\n",
    "虽然是pytorch写的，但是用paddle重写真的很方便！\n",
    "\n",
    ">2. 使用5个网络平均在训练数据集上进行评测将得到几乎ED0.007的好结果，但是提交预测的结果则在0.01，因此可以尝试增强模型正则，如增加L2惩罚，加大Unet网络dropout比率等。\n",
    "\n",
    ">3. 另一个重要的可以提分的点是突破眼底图像较黑的数据，对这种图片的预测一般像素差能达到横纵坐标50，50左右，还是非常影响最终得分的。\n",
    "\n",
    ">4. 使用飞桨参加比赛真的提高了我的动手能力，亲身实践过诸多的模型之后，最终才能够筛选出真正适用于赛题的那一个。\n",
    "\n",
    ">5. 最后，带点私货，开题好难啊呜呜"
   ]
  },
  {
   "cell_type": "code",
   "execution_count": null,
   "id": "b6512aac-6f31-4671-99a4-febc86265d9a",
   "metadata": {},
   "outputs": [],
   "source": []
  }
 ],
 "metadata": {
  "kernelspec": {
   "display_name": "Python 3",
   "language": "python",
   "name": "py35-paddle1.2.0"
  },
  "language_info": {
   "codemirror_mode": {
    "name": "ipython",
    "version": 3
   },
   "file_extension": ".py",
   "mimetype": "text/x-python",
   "name": "python",
   "nbconvert_exporter": "python",
   "pygments_lexer": "ipython3",
   "version": "3.7.4"
  }
 },
 "nbformat": 4,
 "nbformat_minor": 5
}
